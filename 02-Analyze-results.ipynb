{
 "cells": [
  {
   "cell_type": "markdown",
   "id": "c1fc76cf-844d-4b54-8aee-67093403ef8d",
   "metadata": {},
   "source": [
    "## Analysis of the experiments\n",
    "\n",
    "### Steps:\n",
    "- Hyper-parameter search -> individual `*.h5` file in `result/` == result of the search in `search/search.py`\n",
    "- `eval/eval.py` -> evaluating the search from the results `result/*.h5` == result of the evaluation: `res.csv`\n",
    "- Analysis of the evaluations: This notebook\n",
    "\n",
    "### Contents:\n",
    "1. Analyze the data\n",
    "2. Plot the trends\n",
    "\n",
    "### Goal: Analyze the hyperparameters, plot the trends\n",
    "- Author: T. Slanináková, xslanin@fi.muni.cz\n",
    "- Date: 2023-10-11\n",
    "\n",
    "**Observed points / notes:**\n",
    "- parameters with the highest impact on overall time: n. of categories (`cat`), n. of most similar buckets searched (`bucket`), maybe n. of epochs (`ep`)\n",
    "- parameters with the lowest impact: `lr`, `model`"
   ]
  },
  {
   "cell_type": "code",
   "execution_count": 1,
   "id": "828bf8aa-a950-4cf6-bb5f-a06bac76f60b",
   "metadata": {
    "tags": []
   },
   "outputs": [],
   "source": [
    "# pandas options\n",
    "import warnings\n",
    "import pandas as pd\n",
    "from pandas.errors import SettingWithCopyWarning\n",
    "warnings.simplefilter(action=\"ignore\", category=SettingWithCopyWarning)\n",
    "\n",
    "pd.set_option('display.max_columns', None)\n",
    "pd.set_option('display.expand_frame_repr', False)\n",
    "pd.set_option('max_colwidth', None)"
   ]
  },
  {
   "cell_type": "markdown",
   "id": "d4a04412-02f7-489c-96b3-8243dba30ee5",
   "metadata": {},
   "source": [
    "to generate `res.csv`, run `python eval/eval.py`\n",
    "- iterates through every experiment in `result/`, transforms it into a row in `res.csv`"
   ]
  },
  {
   "cell_type": "markdown",
   "id": "073f0e6f-0a61-4376-8a90-d06d93714110",
   "metadata": {},
   "source": [
    "## 1. Analyze the data\n",
    "#### Load the `res.csv`"
   ]
  },
  {
   "cell_type": "code",
   "execution_count": 2,
   "id": "d411290a-48d2-4fe6-8081-d3a9c2443a77",
   "metadata": {
    "tags": []
   },
   "outputs": [
    {
     "data": {
      "text/plain": [
       "(2088, 7)"
      ]
     },
     "execution_count": 2,
     "metadata": {},
     "output_type": "execute_result"
    }
   ],
   "source": [
    "df = pd.read_csv('res.csv')\n",
    "df.shape"
   ]
  },
  {
   "cell_type": "code",
   "execution_count": 3,
   "id": "0e52e2dd-2147-4ee2-b8f0-cf329656c169",
   "metadata": {
    "tags": []
   },
   "outputs": [
    {
     "data": {
      "text/html": [
       "<div>\n",
       "<style scoped>\n",
       "    .dataframe tbody tr th:only-of-type {\n",
       "        vertical-align: middle;\n",
       "    }\n",
       "\n",
       "    .dataframe tbody tr th {\n",
       "        vertical-align: top;\n",
       "    }\n",
       "\n",
       "    .dataframe thead th {\n",
       "        text-align: right;\n",
       "    }\n",
       "</style>\n",
       "<table border=\"1\" class=\"dataframe\">\n",
       "  <thead>\n",
       "    <tr style=\"text-align: right;\">\n",
       "      <th></th>\n",
       "      <th>data</th>\n",
       "      <th>size</th>\n",
       "      <th>algo</th>\n",
       "      <th>buildtime</th>\n",
       "      <th>querytime</th>\n",
       "      <th>params</th>\n",
       "      <th>recall</th>\n",
       "    </tr>\n",
       "  </thead>\n",
       "  <tbody>\n",
       "    <tr>\n",
       "      <th>0</th>\n",
       "      <td>pca96v2</td>\n",
       "      <td>10M</td>\n",
       "      <td>Learned-index</td>\n",
       "      <td>22322.130576</td>\n",
       "      <td>216.556589</td>\n",
       "      <td>learned-index-pca96v2-10M-ep=212-lr=0.008-cat=122-model=MLP-buck=1-862353.elixir-pbs.elixir-czech.cz</td>\n",
       "      <td>0.67625</td>\n",
       "    </tr>\n",
       "    <tr>\n",
       "      <th>1</th>\n",
       "      <td>pca96v2</td>\n",
       "      <td>10M</td>\n",
       "      <td>Learned-index</td>\n",
       "      <td>5743.931219</td>\n",
       "      <td>669.535078</td>\n",
       "      <td>learned-index-pca96v2-10M-ep=55-lr=0.09-cat=122-model=MLP-buck=4-861285.elixir-pbs.elixir-czech.cz</td>\n",
       "      <td>0.88893</td>\n",
       "    </tr>\n",
       "  </tbody>\n",
       "</table>\n",
       "</div>"
      ],
      "text/plain": [
       "      data size           algo     buildtime   querytime                                                                                                params   recall\n",
       "0  pca96v2  10M  Learned-index  22322.130576  216.556589  learned-index-pca96v2-10M-ep=212-lr=0.008-cat=122-model=MLP-buck=1-862353.elixir-pbs.elixir-czech.cz  0.67625\n",
       "1  pca96v2  10M  Learned-index   5743.931219  669.535078    learned-index-pca96v2-10M-ep=55-lr=0.09-cat=122-model=MLP-buck=4-861285.elixir-pbs.elixir-czech.cz  0.88893"
      ]
     },
     "execution_count": 3,
     "metadata": {},
     "output_type": "execute_result"
    }
   ],
   "source": [
    "df.head(2)"
   ]
  },
  {
   "cell_type": "code",
   "execution_count": 4,
   "id": "175f6b99-62db-4366-9b15-505181db95bf",
   "metadata": {
    "tags": []
   },
   "outputs": [],
   "source": [
    "def process_dataframe(df):\n",
    "    \"\"\" Parse info out of `params` columns. \"\"\"\n",
    "    df[[i for i in range(12)]] = df.params.str.split('-', expand=True)\n",
    "    df = df.dropna()\n",
    "    df['ep'] = df[4].str.split('=', expand=True)[1].astype(int)\n",
    "    df['lr'] = df[5].str.split('=', expand=True)[1].astype(float)\n",
    "    df['cat'] = df[6].str.split('=', expand=True)[1].astype(int)\n",
    "    df['bucket'] = df[8].str.split('=', expand=True)[1].astype(int)\n",
    "    df['jobid'] = df[9].str.split('.elixir', expand=True)[0].astype(int)\n",
    "    # move `params` column to the back\n",
    "    df.insert(df.shape[1]-1, 'params', df.pop('params'))\n",
    "    df = df.drop([i for i in range(12)], axis=1)\n",
    "    return df"
   ]
  },
  {
   "cell_type": "code",
   "execution_count": 5,
   "id": "96cd589b-91ba-4385-85b8-11e0b7cd592a",
   "metadata": {
    "tags": []
   },
   "outputs": [
    {
     "data": {
      "text/html": [
       "<div>\n",
       "<style scoped>\n",
       "    .dataframe tbody tr th:only-of-type {\n",
       "        vertical-align: middle;\n",
       "    }\n",
       "\n",
       "    .dataframe tbody tr th {\n",
       "        vertical-align: top;\n",
       "    }\n",
       "\n",
       "    .dataframe thead th {\n",
       "        text-align: right;\n",
       "    }\n",
       "</style>\n",
       "<table border=\"1\" class=\"dataframe\">\n",
       "  <thead>\n",
       "    <tr style=\"text-align: right;\">\n",
       "      <th></th>\n",
       "      <th>data</th>\n",
       "      <th>size</th>\n",
       "      <th>algo</th>\n",
       "      <th>buildtime</th>\n",
       "      <th>querytime</th>\n",
       "      <th>recall</th>\n",
       "      <th>ep</th>\n",
       "      <th>lr</th>\n",
       "      <th>cat</th>\n",
       "      <th>bucket</th>\n",
       "      <th>jobid</th>\n",
       "      <th>params</th>\n",
       "    </tr>\n",
       "  </thead>\n",
       "  <tbody>\n",
       "    <tr>\n",
       "      <th>0</th>\n",
       "      <td>pca96v2</td>\n",
       "      <td>10M</td>\n",
       "      <td>Learned-index</td>\n",
       "      <td>22322.130576</td>\n",
       "      <td>216.556589</td>\n",
       "      <td>0.67625</td>\n",
       "      <td>212</td>\n",
       "      <td>0.008</td>\n",
       "      <td>122</td>\n",
       "      <td>1</td>\n",
       "      <td>862353</td>\n",
       "      <td>learned-index-pca96v2-10M-ep=212-lr=0.008-cat=122-model=MLP-buck=1-862353.elixir-pbs.elixir-czech.cz</td>\n",
       "    </tr>\n",
       "    <tr>\n",
       "      <th>1</th>\n",
       "      <td>pca96v2</td>\n",
       "      <td>10M</td>\n",
       "      <td>Learned-index</td>\n",
       "      <td>5743.931219</td>\n",
       "      <td>669.535078</td>\n",
       "      <td>0.88893</td>\n",
       "      <td>55</td>\n",
       "      <td>0.090</td>\n",
       "      <td>122</td>\n",
       "      <td>4</td>\n",
       "      <td>861285</td>\n",
       "      <td>learned-index-pca96v2-10M-ep=55-lr=0.09-cat=122-model=MLP-buck=4-861285.elixir-pbs.elixir-czech.cz</td>\n",
       "    </tr>\n",
       "  </tbody>\n",
       "</table>\n",
       "</div>"
      ],
      "text/plain": [
       "      data size           algo     buildtime   querytime   recall   ep     lr  cat  bucket   jobid                                                                                                params\n",
       "0  pca96v2  10M  Learned-index  22322.130576  216.556589  0.67625  212  0.008  122       1  862353  learned-index-pca96v2-10M-ep=212-lr=0.008-cat=122-model=MLP-buck=1-862353.elixir-pbs.elixir-czech.cz\n",
       "1  pca96v2  10M  Learned-index   5743.931219  669.535078  0.88893   55  0.090  122       4  861285    learned-index-pca96v2-10M-ep=55-lr=0.09-cat=122-model=MLP-buck=4-861285.elixir-pbs.elixir-czech.cz"
      ]
     },
     "execution_count": 5,
     "metadata": {},
     "output_type": "execute_result"
    }
   ],
   "source": [
    "df = process_dataframe(df)\n",
    "df.head(2)"
   ]
  },
  {
   "cell_type": "code",
   "execution_count": 6,
   "id": "503cc3fb-74e7-49d9-98cf-b49617709189",
   "metadata": {
    "tags": []
   },
   "outputs": [
    {
     "data": {
      "text/html": [
       "<div>\n",
       "<style scoped>\n",
       "    .dataframe tbody tr th:only-of-type {\n",
       "        vertical-align: middle;\n",
       "    }\n",
       "\n",
       "    .dataframe tbody tr th {\n",
       "        vertical-align: top;\n",
       "    }\n",
       "\n",
       "    .dataframe thead th {\n",
       "        text-align: right;\n",
       "    }\n",
       "</style>\n",
       "<table border=\"1\" class=\"dataframe\">\n",
       "  <thead>\n",
       "    <tr style=\"text-align: right;\">\n",
       "      <th></th>\n",
       "      <th>data</th>\n",
       "      <th>size</th>\n",
       "      <th>algo</th>\n",
       "      <th>buildtime</th>\n",
       "      <th>querytime</th>\n",
       "      <th>recall</th>\n",
       "      <th>ep</th>\n",
       "      <th>lr</th>\n",
       "      <th>cat</th>\n",
       "      <th>bucket</th>\n",
       "      <th>jobid</th>\n",
       "      <th>params</th>\n",
       "    </tr>\n",
       "  </thead>\n",
       "  <tbody>\n",
       "    <tr>\n",
       "      <th>1012</th>\n",
       "      <td>pca96v2</td>\n",
       "      <td>10M</td>\n",
       "      <td>Learned-index</td>\n",
       "      <td>29868.730211</td>\n",
       "      <td>519.733375</td>\n",
       "      <td>0.90273</td>\n",
       "      <td>205</td>\n",
       "      <td>0.009</td>\n",
       "      <td>123</td>\n",
       "      <td>4</td>\n",
       "      <td>862501</td>\n",
       "      <td>learned-index-pca96v2-10M-ep=205-lr=0.009-cat=123-model=MLP-buck=4-862501.elixir-pbs.elixir-czech.cz</td>\n",
       "    </tr>\n",
       "    <tr>\n",
       "      <th>783</th>\n",
       "      <td>pca96v2</td>\n",
       "      <td>10M</td>\n",
       "      <td>Learned-index</td>\n",
       "      <td>28440.693640</td>\n",
       "      <td>536.458194</td>\n",
       "      <td>0.91102</td>\n",
       "      <td>195</td>\n",
       "      <td>0.009</td>\n",
       "      <td>116</td>\n",
       "      <td>4</td>\n",
       "      <td>859473</td>\n",
       "      <td>learned-index-pca96v2-10M-ep=195-lr=0.009-cat=116-model=MLP-buck=4-859473.elixir-pbs.elixir-czech.cz</td>\n",
       "    </tr>\n",
       "    <tr>\n",
       "      <th>596</th>\n",
       "      <td>pca96v2</td>\n",
       "      <td>10M</td>\n",
       "      <td>Learned-index</td>\n",
       "      <td>31441.985064</td>\n",
       "      <td>545.397900</td>\n",
       "      <td>0.91156</td>\n",
       "      <td>220</td>\n",
       "      <td>0.009</td>\n",
       "      <td>122</td>\n",
       "      <td>4</td>\n",
       "      <td>859436</td>\n",
       "      <td>learned-index-pca96v2-10M-ep=220-lr=0.009-cat=122-model=MLP-buck=4-859436.elixir-pbs.elixir-czech.cz</td>\n",
       "    </tr>\n",
       "  </tbody>\n",
       "</table>\n",
       "</div>"
      ],
      "text/plain": [
       "         data size           algo     buildtime   querytime   recall   ep     lr  cat  bucket   jobid                                                                                                params\n",
       "1012  pca96v2  10M  Learned-index  29868.730211  519.733375  0.90273  205  0.009  123       4  862501  learned-index-pca96v2-10M-ep=205-lr=0.009-cat=123-model=MLP-buck=4-862501.elixir-pbs.elixir-czech.cz\n",
       "783   pca96v2  10M  Learned-index  28440.693640  536.458194  0.91102  195  0.009  116       4  859473  learned-index-pca96v2-10M-ep=195-lr=0.009-cat=116-model=MLP-buck=4-859473.elixir-pbs.elixir-czech.cz\n",
       "596   pca96v2  10M  Learned-index  31441.985064  545.397900  0.91156  220  0.009  122       4  859436  learned-index-pca96v2-10M-ep=220-lr=0.009-cat=122-model=MLP-buck=4-859436.elixir-pbs.elixir-czech.cz"
      ]
     },
     "execution_count": 6,
     "metadata": {},
     "output_type": "execute_result"
    }
   ],
   "source": [
    "# check out 5 fastest setups with recall higher than 90%\n",
    "df.query('recall > 0.9').sort_values(by='querytime').head(3)"
   ]
  },
  {
   "cell_type": "markdown",
   "id": "c5baa37d-ad1e-40fc-918d-99bb3765bea6",
   "metadata": {
    "tags": []
   },
   "source": [
    "#### Top 1 by data type, bucket size and n. of categories"
   ]
  },
  {
   "cell_type": "code",
   "execution_count": 7,
   "id": "f8b99109-8f8c-44a1-88cf-62944ecec749",
   "metadata": {
    "tags": []
   },
   "outputs": [
    {
     "data": {
      "text/plain": [
       "data\n",
       "clip768v2    839.350932\n",
       "pca32v2      693.058218\n",
       "pca96v2      519.733375\n",
       "Name: querytime, dtype: float64"
      ]
     },
     "execution_count": 7,
     "metadata": {},
     "output_type": "execute_result"
    }
   ],
   "source": [
    "df.query('recall > 0.9').groupby('data')['querytime'].min()"
   ]
  },
  {
   "cell_type": "code",
   "execution_count": 8,
   "id": "c8aa8449-ba41-4fd6-bfd9-3fa51b9f1efb",
   "metadata": {
    "tags": []
   },
   "outputs": [
    {
     "data": {
      "text/plain": [
       "bucket\n",
       "2     1714.350018\n",
       "3      858.649798\n",
       "4      519.733375\n",
       "5      662.709375\n",
       "6      693.058218\n",
       "7      798.435510\n",
       "8      820.391420\n",
       "9     1035.096954\n",
       "10    1019.145122\n",
       "12    1226.541410\n",
       "20    2793.372579\n",
       "24    4235.687508\n",
       "40    6628.313679\n",
       "Name: querytime, dtype: float64"
      ]
     },
     "execution_count": 8,
     "metadata": {},
     "output_type": "execute_result"
    }
   ],
   "source": [
    "df.query('recall > 0.9').groupby('bucket')['querytime'].min()"
   ]
  },
  {
   "cell_type": "markdown",
   "id": "548fed23-33d9-445a-bef3-a76702d55869",
   "metadata": {},
   "source": [
    "### Categories and query time"
   ]
  },
  {
   "cell_type": "code",
   "execution_count": 9,
   "id": "89df1676-4315-4369-9067-dae25f184b37",
   "metadata": {
    "tags": []
   },
   "outputs": [
    {
     "data": {
      "text/html": [
       "<style type=\"text/css\">\n",
       "#T_6b2f9_row0_col0 {\n",
       "  background-color: #023858;\n",
       "  color: #f1f1f1;\n",
       "}\n",
       "#T_6b2f9_row1_col0 {\n",
       "  background-color: #79abd0;\n",
       "  color: #f1f1f1;\n",
       "}\n",
       "#T_6b2f9_row2_col0 {\n",
       "  background-color: #81aed2;\n",
       "  color: #f1f1f1;\n",
       "}\n",
       "#T_6b2f9_row3_col0 {\n",
       "  background-color: #d7d6e9;\n",
       "  color: #000000;\n",
       "}\n",
       "#T_6b2f9_row4_col0 {\n",
       "  background-color: #e1dfed;\n",
       "  color: #000000;\n",
       "}\n",
       "#T_6b2f9_row5_col0 {\n",
       "  background-color: #e6e2ef;\n",
       "  color: #000000;\n",
       "}\n",
       "#T_6b2f9_row6_col0 {\n",
       "  background-color: #f3edf5;\n",
       "  color: #000000;\n",
       "}\n",
       "#T_6b2f9_row7_col0 {\n",
       "  background-color: #eee9f3;\n",
       "  color: #000000;\n",
       "}\n",
       "#T_6b2f9_row8_col0, #T_6b2f9_row10_col0 {\n",
       "  background-color: #faf2f8;\n",
       "  color: #000000;\n",
       "}\n",
       "#T_6b2f9_row9_col0 {\n",
       "  background-color: #fbf3f9;\n",
       "  color: #000000;\n",
       "}\n",
       "#T_6b2f9_row11_col0 {\n",
       "  background-color: #f5eff6;\n",
       "  color: #000000;\n",
       "}\n",
       "#T_6b2f9_row12_col0, #T_6b2f9_row16_col0 {\n",
       "  background-color: #fdf5fa;\n",
       "  color: #000000;\n",
       "}\n",
       "#T_6b2f9_row13_col0 {\n",
       "  background-color: #fbf4f9;\n",
       "  color: #000000;\n",
       "}\n",
       "#T_6b2f9_row14_col0 {\n",
       "  background-color: #f2ecf5;\n",
       "  color: #000000;\n",
       "}\n",
       "#T_6b2f9_row15_col0 {\n",
       "  background-color: #fcf4fa;\n",
       "  color: #000000;\n",
       "}\n",
       "#T_6b2f9_row17_col0 {\n",
       "  background-color: #fef6fa;\n",
       "  color: #000000;\n",
       "}\n",
       "#T_6b2f9_row18_col0 {\n",
       "  background-color: #f9f2f8;\n",
       "  color: #000000;\n",
       "}\n",
       "#T_6b2f9_row19_col0 {\n",
       "  background-color: #eee8f3;\n",
       "  color: #000000;\n",
       "}\n",
       "#T_6b2f9_row20_col0 {\n",
       "  background-color: #f0eaf4;\n",
       "  color: #000000;\n",
       "}\n",
       "#T_6b2f9_row21_col0 {\n",
       "  background-color: #f4edf6;\n",
       "  color: #000000;\n",
       "}\n",
       "#T_6b2f9_row22_col0 {\n",
       "  background-color: #ede8f3;\n",
       "  color: #000000;\n",
       "}\n",
       "</style>\n",
       "<table id=\"T_6b2f9\">\n",
       "  <thead>\n",
       "    <tr>\n",
       "      <th class=\"blank level0\" >&nbsp;</th>\n",
       "      <th id=\"T_6b2f9_level0_col0\" class=\"col_heading level0 col0\" >querytime</th>\n",
       "    </tr>\n",
       "    <tr>\n",
       "      <th class=\"index_name level0\" >cat</th>\n",
       "      <th class=\"blank col0\" >&nbsp;</th>\n",
       "    </tr>\n",
       "  </thead>\n",
       "  <tbody>\n",
       "    <tr>\n",
       "      <th id=\"T_6b2f9_level0_row0\" class=\"row_heading level0 row0\" >10</th>\n",
       "      <td id=\"T_6b2f9_row0_col0\" class=\"data row0 col0\" >3158.084125</td>\n",
       "    </tr>\n",
       "    <tr>\n",
       "      <th id=\"T_6b2f9_level0_row1\" class=\"row_heading level0 row1\" >20</th>\n",
       "      <td id=\"T_6b2f9_row1_col0\" class=\"data row1 col0\" >1714.350018</td>\n",
       "    </tr>\n",
       "    <tr>\n",
       "      <th id=\"T_6b2f9_level0_row2\" class=\"row_heading level0 row2\" >30</th>\n",
       "      <td id=\"T_6b2f9_row2_col0\" class=\"data row2 col0\" >1671.673105</td>\n",
       "    </tr>\n",
       "    <tr>\n",
       "      <th id=\"T_6b2f9_level0_row3\" class=\"row_heading level0 row3\" >50</th>\n",
       "      <td id=\"T_6b2f9_row3_col0\" class=\"data row3 col0\" >1054.538491</td>\n",
       "    </tr>\n",
       "    <tr>\n",
       "      <th id=\"T_6b2f9_level0_row4\" class=\"row_heading level0 row4\" >80</th>\n",
       "      <td id=\"T_6b2f9_row4_col0\" class=\"data row4 col0\" >935.995593</td>\n",
       "    </tr>\n",
       "    <tr>\n",
       "      <th id=\"T_6b2f9_level0_row5\" class=\"row_heading level0 row5\" >90</th>\n",
       "      <td id=\"T_6b2f9_row5_col0\" class=\"data row5 col0\" >888.100942</td>\n",
       "    </tr>\n",
       "    <tr>\n",
       "      <th id=\"T_6b2f9_level0_row6\" class=\"row_heading level0 row6\" >100</th>\n",
       "      <td id=\"T_6b2f9_row6_col0\" class=\"data row6 col0\" >701.028996</td>\n",
       "    </tr>\n",
       "    <tr>\n",
       "      <th id=\"T_6b2f9_level0_row7\" class=\"row_heading level0 row7\" >105</th>\n",
       "      <td id=\"T_6b2f9_row7_col0\" class=\"data row7 col0\" >777.112269</td>\n",
       "    </tr>\n",
       "    <tr>\n",
       "      <th id=\"T_6b2f9_level0_row8\" class=\"row_heading level0 row8\" >110</th>\n",
       "      <td id=\"T_6b2f9_row8_col0\" class=\"data row8 col0\" >589.214696</td>\n",
       "    </tr>\n",
       "    <tr>\n",
       "      <th id=\"T_6b2f9_level0_row9\" class=\"row_heading level0 row9\" >112</th>\n",
       "      <td id=\"T_6b2f9_row9_col0\" class=\"data row9 col0\" >572.394605</td>\n",
       "    </tr>\n",
       "    <tr>\n",
       "      <th id=\"T_6b2f9_level0_row10\" class=\"row_heading level0 row10\" >114</th>\n",
       "      <td id=\"T_6b2f9_row10_col0\" class=\"data row10 col0\" >593.224565</td>\n",
       "    </tr>\n",
       "    <tr>\n",
       "      <th id=\"T_6b2f9_level0_row11\" class=\"row_heading level0 row11\" >115</th>\n",
       "      <td id=\"T_6b2f9_row11_col0\" class=\"data row11 col0\" >665.981397</td>\n",
       "    </tr>\n",
       "    <tr>\n",
       "      <th id=\"T_6b2f9_level0_row12\" class=\"row_heading level0 row12\" >116</th>\n",
       "      <td id=\"T_6b2f9_row12_col0\" class=\"data row12 col0\" >536.458194</td>\n",
       "    </tr>\n",
       "    <tr>\n",
       "      <th id=\"T_6b2f9_level0_row13\" class=\"row_heading level0 row13\" >118</th>\n",
       "      <td id=\"T_6b2f9_row13_col0\" class=\"data row13 col0\" >561.165951</td>\n",
       "    </tr>\n",
       "    <tr>\n",
       "      <th id=\"T_6b2f9_level0_row14\" class=\"row_heading level0 row14\" >120</th>\n",
       "      <td id=\"T_6b2f9_row14_col0\" class=\"data row14 col0\" >724.029619</td>\n",
       "    </tr>\n",
       "    <tr>\n",
       "      <th id=\"T_6b2f9_level0_row15\" class=\"row_heading level0 row15\" >121</th>\n",
       "      <td id=\"T_6b2f9_row15_col0\" class=\"data row15 col0\" >557.929584</td>\n",
       "    </tr>\n",
       "    <tr>\n",
       "      <th id=\"T_6b2f9_level0_row16\" class=\"row_heading level0 row16\" >122</th>\n",
       "      <td id=\"T_6b2f9_row16_col0\" class=\"data row16 col0\" >545.397900</td>\n",
       "    </tr>\n",
       "    <tr>\n",
       "      <th id=\"T_6b2f9_level0_row17\" class=\"row_heading level0 row17\" >123</th>\n",
       "      <td id=\"T_6b2f9_row17_col0\" class=\"data row17 col0\" >519.733375</td>\n",
       "    </tr>\n",
       "    <tr>\n",
       "      <th id=\"T_6b2f9_level0_row18\" class=\"row_heading level0 row18\" >124</th>\n",
       "      <td id=\"T_6b2f9_row18_col0\" class=\"data row18 col0\" >601.930308</td>\n",
       "    </tr>\n",
       "    <tr>\n",
       "      <th id=\"T_6b2f9_level0_row19\" class=\"row_heading level0 row19\" >125</th>\n",
       "      <td id=\"T_6b2f9_row19_col0\" class=\"data row19 col0\" >792.524739</td>\n",
       "    </tr>\n",
       "    <tr>\n",
       "      <th id=\"T_6b2f9_level0_row20\" class=\"row_heading level0 row20\" >130</th>\n",
       "      <td id=\"T_6b2f9_row20_col0\" class=\"data row20 col0\" >748.156354</td>\n",
       "    </tr>\n",
       "    <tr>\n",
       "      <th id=\"T_6b2f9_level0_row21\" class=\"row_heading level0 row21\" >150</th>\n",
       "      <td id=\"T_6b2f9_row21_col0\" class=\"data row21 col0\" >693.058218</td>\n",
       "    </tr>\n",
       "    <tr>\n",
       "      <th id=\"T_6b2f9_level0_row22\" class=\"row_heading level0 row22\" >200</th>\n",
       "      <td id=\"T_6b2f9_row22_col0\" class=\"data row22 col0\" >800.263256</td>\n",
       "    </tr>\n",
       "  </tbody>\n",
       "</table>\n"
      ],
      "text/plain": [
       "<pandas.io.formats.style.Styler at 0x146451c78be0>"
      ]
     },
     "execution_count": 9,
     "metadata": {},
     "output_type": "execute_result"
    }
   ],
   "source": [
    "df.query('recall > 0.9').groupby('cat')['querytime'].min().to_frame().style.background_gradient(\n",
    "    axis=1, subset=['querytime'], vmin=500, vmax=3000\n",
    ")"
   ]
  },
  {
   "cell_type": "markdown",
   "id": "2266c208-dd36-401e-9ad5-c618fcc40a57",
   "metadata": {},
   "source": [
    "## 2. Plot the trends"
   ]
  },
  {
   "cell_type": "code",
   "execution_count": 15,
   "id": "a42beb11-08ac-4247-b167-c7c0b6e69126",
   "metadata": {
    "tags": []
   },
   "outputs": [],
   "source": [
    "import matplotlib.pyplot as plt\n",
    "\n",
    "def aggregate_data(df):\n",
    "    return df \\\n",
    "        .query('recall > 0.9') \\\n",
    "        .groupby(['data', 'cat', 'bucket'])['querytime'] \\\n",
    "        .nsmallest(1) \\\n",
    "        .reset_index()\n",
    "\n",
    "def plot(df, plot_type, save=False):\n",
    "    fig = plt.figure(figsize=(8, 4))\n",
    "\n",
    "    colors = [\n",
    "        (170 / 255, 0 / 255, 120 / 255),\n",
    "        (150 / 255, 225 / 255, 0 / 255),\n",
    "        (106 / 255, 90 / 255, 205 / 255)\n",
    "    ]\n",
    "    datasets = sorted(df.data.unique().tolist())\n",
    "    markers = [\"o\", \"s\", \"D\"]\n",
    "    line_width = 2\n",
    "\n",
    "    data = aggregate_data(df)\n",
    "    \n",
    "    for dataset_type_index in range(len(datasets)):\n",
    "        datum = data.query(\n",
    "            f'cat > 30 & querytime < 1300 & data == \"{datasets[dataset_type_index]}\"'\n",
    "        ).reset_index(drop=True)\n",
    "\n",
    "        categories = datum.cat.reset_index(drop=True).tolist()\n",
    "        datum['avg_n_visited_objects'] = datum.bucket * (10_000_000 / datum.cat)\n",
    "        n_visited_objects = datum.avg_n_visited_objects.reset_index(drop=True).tolist()\n",
    "        querytime = datum.querytime.reset_index(drop=True).tolist()\n",
    "        label = datasets[dataset_type_index].replace(\"v2\", \"\")\n",
    "\n",
    "        plt.plot(\n",
    "            categories if plot_type == 'cat' else n_visited_objects,\n",
    "            querytime,\n",
    "            markers[dataset_type_index],\n",
    "            color=colors[dataset_type_index],\n",
    "            label=label,\n",
    "            linewidth=line_width,\n",
    "        )\n",
    "\n",
    "    plt.xlabel('Number of categories')\n",
    "    plt.ylabel('Query time (s)')\n",
    "    plt.legend(framealpha=1)\n",
    "    plt.grid(which=\"major\", color=\"k\", linestyle=\"-\", linewidth=0.2)\n",
    "\n",
    "    #plt.xticks([50, 75, 100, 125, 150, 175, 200])\n",
    "    if plot_type != 'cat':\n",
    "        plt.xticks(\n",
    "            ticks=[i for i in range(300_000, 650_000, 50_000)],\n",
    "            labels=[f'{str(i)[:-3]}k' for i in range(300_000, 650_000, 50_000)]\n",
    "        )\n",
    "    plt.yticks([600, 800, 1000, 1200])\n",
    "\n",
    "    plt.tight_layout()\n",
    "    \n",
    "    if save:\n",
    "        plt.savefig(f'{plot_type}.pdf')\n",
    "    else:\n",
    "        plt.show()"
   ]
  },
  {
   "cell_type": "code",
   "execution_count": 18,
   "id": "96efd371-12c8-40db-a2f1-0cee5650dd02",
   "metadata": {
    "tags": []
   },
   "outputs": [
    {
     "data": {
      "image/png": "[encoded data removed]",
      "text/plain": [
       "<Figure size 800x400 with 1 Axes>"
      ]
     },
     "metadata": {},
     "output_type": "display_data"
    },
    {
     "data": {
      "image/png": "[encoded data removed]",
      "text/plain": [
       "<Figure size 800x400 with 1 Axes>"
      ]
     },
     "metadata": {},
     "output_type": "display_data"
    }
   ],
   "source": [
    "# plot and save both of the plots\n",
    "plot(df, 'cat', save=True)\n",
    "plot(df, 'nobjects', save=True)"
   ]
  }
 ],
 "metadata": {
  "kernelspec": {
   "display_name": "Python 3 (ipykernel)",
   "language": "python",
   "name": "python3"
  },
  "language_info": {
   "codemirror_mode": {
    "name": "ipython",
    "version": 3
   },
   "file_extension": ".py",
   "mimetype": "text/x-python",
   "name": "python",
   "nbconvert_exporter": "python",
   "pygments_lexer": "ipython3",
   "version": "3.8.17"
  }
 },
 "nbformat": 4,
 "nbformat_minor": 5
}
